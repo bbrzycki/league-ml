{
 "cells": [
  {
   "cell_type": "code",
   "execution_count": 64,
   "metadata": {},
   "outputs": [
    {
     "name": "stdout",
     "output_type": "stream",
     "text": [
      "Queue type: RANKED_FLEX_TT\n",
      "Queue id: 470\n",
      "----\n",
      "Team 1:\n",
      "TheKillSecure: 20/41 (48.78%), GOLD IV\n",
      "Falunithik : 34/71 (47.89%), GOLD V\n"
     ]
    },
    {
     "ename": "IndexError",
     "evalue": "list index out of range",
     "output_type": "error",
     "traceback": [
      "\u001b[0;31m---------------------------------------------------------------------------\u001b[0m",
      "\u001b[0;31mIndexError\u001b[0m                                Traceback (most recent call last)",
      "\u001b[0;32m<ipython-input-64-3d3fe1e37e5c>\u001b[0m in \u001b[0;36m<module>\u001b[0;34m()\u001b[0m\n\u001b[1;32m     68\u001b[0m \u001b[0;31m#     print(league_data)\u001b[0m\u001b[0;34m\u001b[0m\u001b[0;34m\u001b[0m\u001b[0m\n\u001b[1;32m     69\u001b[0m \u001b[0;31m#     print(queue_type)\u001b[0m\u001b[0;34m\u001b[0m\u001b[0;34m\u001b[0m\u001b[0m\n\u001b[0;32m---> 70\u001b[0;31m     \u001b[0mleague\u001b[0m \u001b[0;34m=\u001b[0m \u001b[0;34m[\u001b[0m\u001b[0melt\u001b[0m \u001b[0;32mfor\u001b[0m \u001b[0melt\u001b[0m \u001b[0;32min\u001b[0m \u001b[0mleague_data\u001b[0m \u001b[0;32mif\u001b[0m \u001b[0melt\u001b[0m\u001b[0;34m[\u001b[0m\u001b[0;34m'queueType'\u001b[0m\u001b[0;34m]\u001b[0m \u001b[0;34m==\u001b[0m \u001b[0mqueue_type\u001b[0m\u001b[0;34m]\u001b[0m\u001b[0;34m[\u001b[0m\u001b[0;36m0\u001b[0m\u001b[0;34m]\u001b[0m\u001b[0;34m\u001b[0m\u001b[0m\n\u001b[0m\u001b[1;32m     71\u001b[0m     \u001b[0mwins\u001b[0m \u001b[0;34m=\u001b[0m \u001b[0mleague\u001b[0m\u001b[0;34m[\u001b[0m\u001b[0;34m'wins'\u001b[0m\u001b[0;34m]\u001b[0m\u001b[0;34m\u001b[0m\u001b[0m\n\u001b[1;32m     72\u001b[0m     \u001b[0mlosses\u001b[0m \u001b[0;34m=\u001b[0m \u001b[0mleague\u001b[0m\u001b[0;34m[\u001b[0m\u001b[0;34m'losses'\u001b[0m\u001b[0;34m]\u001b[0m\u001b[0;34m\u001b[0m\u001b[0m\n",
      "\u001b[0;31mIndexError\u001b[0m: list index out of range"
     ]
    }
   ],
   "source": [
    "import requests\n",
    "from pprint import pprint\n",
    "import config\n",
    "import numpy as np\n",
    "\n",
    "username = 'delphinus6'\n",
    "game_index = 0\n",
    "\n",
    "response = requests.get(\"https://na1.api.riotgames.com/lol/summoner/v3/summoners/by-name/%s?api_key=%s\" % (username, config.api_key))\n",
    "summoner_data = response.json()\n",
    "\n",
    "summoner_id = summoner_data['id']\n",
    "account_id = summoner_data['accountId']\n",
    "\n",
    "# response = requests.get('https://na1.api.riotgames.com/lol/league/v3/positions/by-summoner/%s?api_key=%s' % (summoner_id, config.api_key))\n",
    "# league_data = response.json()\n",
    "\n",
    "# print('%s\\'s Winrates' % username)\n",
    "# print('----')\n",
    "# for league in league_data:\n",
    "#     wins = league['wins']\n",
    "#     losses = league['losses']\n",
    "#     winrate = wins / (wins + losses) * 100\n",
    "#     print('%s: %.02f%% over %d games' % (league['queueType'], winrate, (wins+losses)))\n",
    "# print('----')    \n",
    "\n",
    "response = requests.get(\"https://na1.api.riotgames.com/lol/match/v3/matchlists/by-account/%s?api_key=%s\" % (account_id, config.api_key))\n",
    "all_match_data = response.json()\n",
    "\n",
    "latest_match_id = all_match_data['matches'][game_index]['gameId']\n",
    "\n",
    "response = requests.get(\"https://na1.api.riotgames.com/lol/match/v3/matches/%s?api_key=%s\" % (latest_match_id, config.api_key))\n",
    "latest_match_data = response.json()\n",
    "\n",
    "num_players = len(latest_match_data['participantIdentities']) / 2\n",
    "queue_id = latest_match_data['queueId']\n",
    "if queue_id == 470:\n",
    "    queue_type = 'RANKED_FLEX_TT'\n",
    "elif queue_id == 420:\n",
    "    queue_type = 'RANKED_SOLO_5x5'\n",
    "elif queue_id == 440:\n",
    "    queue_type = 'RANKED_FLEX_SR'\n",
    "else:\n",
    "    queue_type = 'QUEUE ID NOT ACCOUNTED FOR'\n",
    "    \n",
    "print('Queue type: %s' % queue_type)\n",
    "print('Queue id: %d' % queue_id)\n",
    "print('----')\n",
    "\n",
    "team1 = []\n",
    "team1_w = 0\n",
    "team1_tot = 0\n",
    "team2 = []\n",
    "team2_w = 0\n",
    "team2_tot = 0\n",
    "for i, participant in enumerate(latest_match_data['participantIdentities']):\n",
    "    if i == 0:\n",
    "        print('Team 1:')\n",
    "    elif i == num_players:\n",
    "        print('\\nTeam 2:')\n",
    "    \n",
    "    summoner_name = participant['player']['summonerName']\n",
    "    summoner_id = participant['player']['summonerId']\n",
    "#     print(summoner_name, summoner_id)\n",
    "    \n",
    "    response = requests.get('https://na1.api.riotgames.com/lol/league/v3/positions/by-summoner/%s?api_key=%s' % (summoner_id, config.api_key))\n",
    "    league_data = response.json()\n",
    "#     print(league_data)\n",
    "#     print(queue_type)\n",
    "    league = [elt for elt in league_data if elt['queueType'] == queue_type][0]\n",
    "    wins = league['wins']\n",
    "    losses = league['losses']\n",
    "    winrate = wins / (wins + losses)\n",
    "    if latest_match_data['teams'][0]['teamId'] == latest_match_data['participants'][i]['teamId']:\n",
    "#     if i < num_players:\n",
    "        team1.append(winrate)\n",
    "        team1_w += wins\n",
    "        team1_tot += (wins + losses)\n",
    "    else:\n",
    "        team2.append(winrate)\n",
    "        team2_w += wins\n",
    "        team2_tot += (wins + losses)\n",
    "    print('%s: %s/%s (%.02f%%), %s %s' % (summoner_name, wins, wins + losses, winrate * 100, league['tier'], league['rank'] ))\n",
    "\n",
    "print('----')\n",
    "    \n",
    "team1_sum = sum(team1)\n",
    "team2_sum = sum(team2)\n",
    "print('Predictions (Team 1 vs Team2):\\n')\n",
    "print('    Cumulative winrates: %.02f%% vs %.02f%%' % (team1_sum*100, team2_sum*100))\n",
    "team1_win = latest_match_data['teams'][0]['win'] == 'Win'\n",
    "# team1_predict = team1_sum > team2_sum\n",
    "\n",
    "sum_ratio = team1_sum / team2_sum\n",
    "print('    Win likelihood from sums: %.02f%% vs %.02f%%' % (1/(1+1/sum_ratio)*100, 1/(1+sum_ratio)*100))\n",
    "\n",
    "# Sort for min\n",
    "team1.sort(reverse = False)\n",
    "team2.sort(reverse = False)\n",
    "ratios = np.array(team1) / np.array(team2)\n",
    "team1_ratio = np.mean(ratios) / np.mean(1/ratios)\n",
    "print('    Win likelihood from mean min: %.02f%% vs %.02f%%' % (1/(1+1/team1_ratio)*100, 1/(1+team1_ratio)*100))\n",
    "\n",
    "# Sort for max\n",
    "team1.sort(reverse = False)\n",
    "team2.sort(reverse = True)\n",
    "ratios = np.array(team1) / np.array(team2)\n",
    "team1_ratio = np.mean(ratios) / np.mean(1/ratios)\n",
    "max_lh_1 = 1/(1+1/team1_ratio)*100\n",
    "max_lh_2 = 1/(1+team1_ratio)*100\n",
    "print('    Win likelihood from mean max: %.02f%% vs %.02f%%' % (max_lh_1, max_lh_2))\n",
    "\n",
    "map_diff = 0.026\n",
    "print('    After map side difference (%.02f%%): %.02f%% vs %.02f%%' % (map_diff, max_lh_1 * (1 - map_diff), max_lh_2 * (1 + map_diff)))\n",
    "\n",
    "team1_carry = team1[-1]/team2[-1]\n",
    "team2_carry = team2[0]/team1[0]\n",
    "min_carry = min(team1_carry, team2_carry)\n",
    "print('    Solo carry likelihood: %.02f vs %.02f' % (team1_carry/min_carry, team2_carry/min_carry))\n",
    "\n",
    "if team1_win:\n",
    "    winner = 'Team 1'\n",
    "else:\n",
    "    winner = 'Team 2'\n",
    "print('\\nActual result: %s won!' % winner) \n",
    "# print('-->', team1_win == team1_predict)\n",
    "    \n"
   ]
  },
  {
   "cell_type": "code",
   "execution_count": 61,
   "metadata": {},
   "outputs": [
    {
     "name": "stdout",
     "output_type": "stream",
     "text": [
      "Queue type: RANKED_FLEX_TT\n",
      "Queue id: 470\n",
      "----\n",
      "Team 1:\n",
      "TheKillSecure: 20/39 (51.28%)\n",
      "Falunithik : 27/59 (45.76%)\n",
      "\n",
      "Team 2:\n",
      "chilledpie: 24/41 (58.54%)\n",
      "delphinus6: 46/85 (54.12%)\n",
      "TheNex7BigName: 8/13 (61.54%)\n",
      "----\n",
      "Predictions (Team 1 vs Team2):\n",
      "\n",
      "    Cumulative winrates: 97.04% vs 174.19%\n",
      "    Win likelihood from sums: 35.78% vs 64.22%\n"
     ]
    },
    {
     "ename": "ValueError",
     "evalue": "operands could not be broadcast together with shapes (2,) (3,) ",
     "output_type": "error",
     "traceback": [
      "\u001b[0;31m---------------------------------------------------------------------------\u001b[0m",
      "\u001b[0;31mValueError\u001b[0m                                Traceback (most recent call last)",
      "\u001b[0;32m<ipython-input-61-3c29a638a052>\u001b[0m in \u001b[0;36m<module>\u001b[0;34m()\u001b[0m\n\u001b[1;32m     89\u001b[0m \u001b[0mteam1\u001b[0m\u001b[0;34m.\u001b[0m\u001b[0msort\u001b[0m\u001b[0;34m(\u001b[0m\u001b[0mreverse\u001b[0m \u001b[0;34m=\u001b[0m \u001b[0;32mFalse\u001b[0m\u001b[0;34m)\u001b[0m\u001b[0;34m\u001b[0m\u001b[0m\n\u001b[1;32m     90\u001b[0m \u001b[0mteam2\u001b[0m\u001b[0;34m.\u001b[0m\u001b[0msort\u001b[0m\u001b[0;34m(\u001b[0m\u001b[0mreverse\u001b[0m \u001b[0;34m=\u001b[0m \u001b[0;32mFalse\u001b[0m\u001b[0;34m)\u001b[0m\u001b[0;34m\u001b[0m\u001b[0m\n\u001b[0;32m---> 91\u001b[0;31m \u001b[0mratios\u001b[0m \u001b[0;34m=\u001b[0m \u001b[0mnp\u001b[0m\u001b[0;34m.\u001b[0m\u001b[0marray\u001b[0m\u001b[0;34m(\u001b[0m\u001b[0mteam1\u001b[0m\u001b[0;34m)\u001b[0m \u001b[0;34m/\u001b[0m \u001b[0mnp\u001b[0m\u001b[0;34m.\u001b[0m\u001b[0marray\u001b[0m\u001b[0;34m(\u001b[0m\u001b[0mteam2\u001b[0m\u001b[0;34m)\u001b[0m\u001b[0;34m\u001b[0m\u001b[0m\n\u001b[0m\u001b[1;32m     92\u001b[0m \u001b[0mteam1_ratio\u001b[0m \u001b[0;34m=\u001b[0m \u001b[0mnp\u001b[0m\u001b[0;34m.\u001b[0m\u001b[0mmean\u001b[0m\u001b[0;34m(\u001b[0m\u001b[0mratios\u001b[0m\u001b[0;34m)\u001b[0m \u001b[0;34m/\u001b[0m \u001b[0mnp\u001b[0m\u001b[0;34m.\u001b[0m\u001b[0mmean\u001b[0m\u001b[0;34m(\u001b[0m\u001b[0;36m1\u001b[0m\u001b[0;34m/\u001b[0m\u001b[0mratios\u001b[0m\u001b[0;34m)\u001b[0m\u001b[0;34m\u001b[0m\u001b[0m\n\u001b[1;32m     93\u001b[0m \u001b[0mprint\u001b[0m\u001b[0;34m(\u001b[0m\u001b[0;34m'    Win likelihood from mean min: %.02f%% vs %.02f%%'\u001b[0m \u001b[0;34m%\u001b[0m \u001b[0;34m(\u001b[0m\u001b[0;36m1\u001b[0m\u001b[0;34m/\u001b[0m\u001b[0;34m(\u001b[0m\u001b[0;36m1\u001b[0m\u001b[0;34m+\u001b[0m\u001b[0;36m1\u001b[0m\u001b[0;34m/\u001b[0m\u001b[0mteam1_ratio\u001b[0m\u001b[0;34m)\u001b[0m\u001b[0;34m*\u001b[0m\u001b[0;36m100\u001b[0m\u001b[0;34m,\u001b[0m \u001b[0;36m1\u001b[0m\u001b[0;34m/\u001b[0m\u001b[0;34m(\u001b[0m\u001b[0;36m1\u001b[0m\u001b[0;34m+\u001b[0m\u001b[0mteam1_ratio\u001b[0m\u001b[0;34m)\u001b[0m\u001b[0;34m*\u001b[0m\u001b[0;36m100\u001b[0m\u001b[0;34m)\u001b[0m\u001b[0;34m)\u001b[0m\u001b[0;34m\u001b[0m\u001b[0m\n",
      "\u001b[0;31mValueError\u001b[0m: operands could not be broadcast together with shapes (2,) (3,) "
     ]
    }
   ],
   "source": [
    "# real-time\n",
    "import requests\n",
    "from pprint import pprint\n",
    "import config\n",
    "import numpy as np\n",
    "\n",
    "username = 'delphinus6'\n",
    "\n",
    "response = requests.get(\"https://na1.api.riotgames.com/lol/summoner/v3/summoners/by-name/%s?api_key=%s\" % (username, config.api_key))\n",
    "summoner_data = response.json()\n",
    "\n",
    "summoner_id = summoner_data['id']\n",
    "account_id = summoner_data['accountId']\n",
    "\n",
    "# response = requests.get('https://na1.api.riotgames.com/lol/league/v3/positions/by-summoner/%s?api_key=%s' % (summoner_id, config.api_key))\n",
    "# league_data = response.json()\n",
    "\n",
    "# print('%s\\'s Winrates' % username)\n",
    "# print('----')\n",
    "# for league in league_data:\n",
    "#     wins = league['wins']\n",
    "#     losses = league['losses']\n",
    "#     winrate = wins / (wins + losses) * 100\n",
    "#     print('%s: %.02f%% over %d games' % (league['queueType'], winrate, (wins+losses)))\n",
    "# print('----')    \n",
    "\n",
    "response = requests.get(\"https://na1.api.riotgames.com/lol/spectator/v3/active-games/by-summoner/%s?api_key=%s\" % (summoner_id, config.api_key))\n",
    "current_match_data = response.json()\n",
    "# print(current_match_data)\n",
    "\n",
    "num_players = len(current_match_data['participants']) / 2\n",
    "queue_id = current_match_data['gameQueueConfigId']\n",
    "if queue_id == 470:\n",
    "    queue_type = 'RANKED_FLEX_TT'\n",
    "elif queue_id == 420:\n",
    "    queue_type = 'RANKED_SOLO_5x5'\n",
    "elif queue_id == 440:\n",
    "    queue_type = 'RANKED_FLEX_SR'\n",
    "else:\n",
    "    queue_type = 'QUEUE ID NOT ACCOUNTED FOR'\n",
    "    \n",
    "print('Queue type: %s' % queue_type)\n",
    "print('Queue id: %d' % queue_id)\n",
    "print('----')\n",
    "\n",
    "team1 = []\n",
    "team2 = []\n",
    "for i, participant in enumerate(current_match_data['participants']):\n",
    "    try:\n",
    "        if i == 0:\n",
    "            print('Team 1:')\n",
    "        elif i == num_players:\n",
    "            print('\\nTeam 2:')\n",
    "\n",
    "        summoner_name = participant['summonerName']\n",
    "        summoner_id = participant['summonerId']\n",
    "    #     print(summoner_name, summoner_id)\n",
    "\n",
    "        response = requests.get('https://na1.api.riotgames.com/lol/league/v3/positions/by-summoner/%s?api_key=%s' % (summoner_id, config.api_key))\n",
    "        league_data = response.json()\n",
    "    #     print(league_data)\n",
    "    #     print(queue_type)\n",
    "        league = [elt for elt in league_data if elt['queueType'] == queue_type][0]\n",
    "        wins = league['wins']\n",
    "        losses = league['losses']\n",
    "        winrate = wins / (wins + losses)\n",
    "    #     if current_match_data['teams'][0]['teamId'] == latest_match_data['participants'][i]['teamId']:\n",
    "        if i < num_players:\n",
    "            team1.append(winrate)\n",
    "        else:\n",
    "            team2.append(winrate)\n",
    "        print('%s: %s/%s (%.02f%%)' % (summoner_name, wins, wins + losses, winrate * 100) )\n",
    "    except Exception as e:\n",
    "        pass\n",
    "        \n",
    "print('----')\n",
    "    \n",
    "team1_sum = sum(team1)\n",
    "team2_sum = sum(team2)\n",
    "print('Predictions (Team 1 vs Team2):\\n')\n",
    "print('    Cumulative winrates: %.02f%% vs %.02f%%' % (team1_sum*100, team2_sum*100))\n",
    "\n",
    "sum_ratio = team1_sum / team2_sum\n",
    "print('    Win likelihood from sums: %.02f%% vs %.02f%%' % (1/(1+1/sum_ratio)*100, 1/(1+sum_ratio)*100))\n",
    "\n",
    "# Sort for min\n",
    "team1.sort(reverse = False)\n",
    "team2.sort(reverse = False)\n",
    "ratios = np.array(team1) / np.array(team2)\n",
    "team1_ratio = np.mean(ratios) / np.mean(1/ratios)\n",
    "print('    Win likelihood from mean min: %.02f%% vs %.02f%%' % (1/(1+1/team1_ratio)*100, 1/(1+team1_ratio)*100))\n",
    "\n",
    "# Sort for max\n",
    "team1.sort(reverse = False)\n",
    "team2.sort(reverse = True)\n",
    "ratios = np.array(team1) / np.array(team2)\n",
    "team1_ratio = np.mean(ratios) / np.mean(1/ratios)\n",
    "max_lh_1 = 1/(1+1/team1_ratio)*100\n",
    "max_lh_2 = 1/(1+team1_ratio)*100\n",
    "print('    Win likelihood from mean max: %.02f%% vs %.02f%%' % (max_lh_1, max_lh_2))\n",
    "\n",
    "map_diff = 0.026\n",
    "print('    After map side difference (%.02f%%): %.02f%% vs %.02f%%' % (map_diff, max_lh_1 * (1 - map_diff), max_lh_2 * (1 + map_diff)))\n",
    "\n",
    "team1_carry = team1[-1]/team2[-1]\n",
    "team2_carry = team2[0]/team1[0]\n",
    "min_carry = min(team1_carry, team2_carry)\n",
    "print('    Solo carry likelihood: %.02f vs %.02f' % (team1_carry/min_carry, team2_carry/min_carry))\n",
    "\n",
    "\n"
   ]
  },
  {
   "cell_type": "code",
   "execution_count": 18,
   "metadata": {},
   "outputs": [
    {
     "data": {
      "text/plain": [
       "[0.46551724137931033,\n",
       " 0.4864864864864865,\n",
       " 0.48717948717948717,\n",
       " 0.5189873417721519,\n",
       " 0.5267857142857143]"
      ]
     },
     "execution_count": 18,
     "metadata": {},
     "output_type": "execute_result"
    }
   ],
   "source": [
    "team1.sort(reverse = False)\n",
    "team1"
   ]
  },
  {
   "cell_type": "code",
   "execution_count": 19,
   "metadata": {},
   "outputs": [
    {
     "data": {
      "text/plain": [
       "[0.5353535353535354,\n",
       " 0.5,\n",
       " 0.46296296296296297,\n",
       " 0.4090909090909091,\n",
       " 0.2692307692307692]"
      ]
     },
     "execution_count": 19,
     "metadata": {},
     "output_type": "execute_result"
    }
   ],
   "source": [
    "team2.sort(reverse = True)\n",
    "team2"
   ]
  },
  {
   "cell_type": "code",
   "execution_count": 20,
   "metadata": {},
   "outputs": [
    {
     "name": "stdout",
     "output_type": "stream",
     "text": [
      "[0.86955107 0.97297297 1.05230769 1.26863572 1.95663265]\n",
      "[1.15001871 1.02777778 0.9502924  0.78824834 0.51108214]\n",
      "1.2240200232387322\n",
      "0.8854838712484929\n",
      "1.382317694293989\n",
      "0.5802407032466109\n",
      "0.419759296753389\n",
      "--\n",
      "1.1416487580591697\n",
      "0.5330700254946419\n",
      "0.4669299745053581\n"
     ]
    }
   ],
   "source": [
    "ratios = np.array(team1) / np.array(team2)\n",
    "print(ratios)\n",
    "print(1/ratios)\n",
    "print(np.mean(ratios))\n",
    "print(np.mean(1/ratios))\n",
    "team1_ratio = np.mean(ratios) / np.mean(1/ratios)\n",
    "print(team1_ratio)\n",
    "print(1/(1+1/team1_ratio))\n",
    "print(1/(1+team1_ratio))\n",
    "sum_ratio = team1_sum / team2_sum\n",
    "print('--')\n",
    "print(sum_ratio)\n",
    "print(1/(1+1/sum_ratio))\n",
    "print(1/(1+sum_ratio))"
   ]
  },
  {
   "cell_type": "code",
   "execution_count": 21,
   "metadata": {},
   "outputs": [
    {
     "data": {
      "text/plain": [
       "0.4966442953020134"
      ]
     },
     "execution_count": 21,
     "metadata": {},
     "output_type": "execute_result"
    }
   ],
   "source": [
    "team1_w / team1_tot"
   ]
  },
  {
   "cell_type": "code",
   "execution_count": 22,
   "metadata": {},
   "outputs": [
    {
     "data": {
      "text/plain": [
       "0.4890254609306409"
      ]
     },
     "execution_count": 22,
     "metadata": {},
     "output_type": "execute_result"
    }
   ],
   "source": [
    "team2_w / team2_tot"
   ]
  },
  {
   "cell_type": "code",
   "execution_count": 23,
   "metadata": {},
   "outputs": [
    {
     "data": {
      "text/plain": [
       "0.4969912542206301"
      ]
     },
     "execution_count": 23,
     "metadata": {},
     "output_type": "execute_result"
    }
   ],
   "source": [
    "import numpy as np\n",
    "np.mean(team1)"
   ]
  },
  {
   "cell_type": "code",
   "execution_count": 17,
   "metadata": {},
   "outputs": [
    {
     "data": {
      "text/plain": [
       "(518, 557)"
      ]
     },
     "execution_count": 17,
     "metadata": {},
     "output_type": "execute_result"
    }
   ],
   "source": [
    "team1_w, team2_w"
   ]
  },
  {
   "cell_type": "code",
   "execution_count": 38,
   "metadata": {},
   "outputs": [
    {
     "data": {
      "text/plain": [
       "(539, 42)"
      ]
     },
     "execution_count": 38,
     "metadata": {},
     "output_type": "execute_result"
    }
   ],
   "source": [
    "team1_tot, team2_tot"
   ]
  },
  {
   "cell_type": "code",
   "execution_count": null,
   "metadata": {},
   "outputs": [],
   "source": []
  }
 ],
 "metadata": {
  "kernelspec": {
   "display_name": "Python 3",
   "language": "python",
   "name": "python3"
  },
  "language_info": {
   "codemirror_mode": {
    "name": "ipython",
    "version": 3
   },
   "file_extension": ".py",
   "mimetype": "text/x-python",
   "name": "python",
   "nbconvert_exporter": "python",
   "pygments_lexer": "ipython3",
   "version": "3.6.5"
  }
 },
 "nbformat": 4,
 "nbformat_minor": 2
}
