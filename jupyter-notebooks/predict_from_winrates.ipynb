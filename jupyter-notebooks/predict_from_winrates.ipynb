{
 "cells": [
  {
   "cell_type": "code",
   "execution_count": 64,
   "metadata": {},
   "outputs": [
    {
     "name": "stdout",
     "output_type": "stream",
     "text": [
      "Queue type: RANKED_FLEX_TT\n",
      "Queue id: 470\n",
      "----\n",
      "Team 1:\n",
      "TheKillSecure: 20/41 (48.78%), GOLD IV\n",
      "Falunithik : 34/71 (47.89%), GOLD V\n"
     ]
    },
    {
     "ename": "IndexError",
     "evalue": "list index out of range",
     "output_type": "error",
     "traceback": [
      "\u001b[0;31m---------------------------------------------------------------------------\u001b[0m",
      "\u001b[0;31mIndexError\u001b[0m                                Traceback (most recent call last)",
      "\u001b[0;32m<ipython-input-64-3d3fe1e37e5c>\u001b[0m in \u001b[0;36m<module>\u001b[0;34m()\u001b[0m\n\u001b[1;32m     68\u001b[0m \u001b[0;31m#     print(league_data)\u001b[0m\u001b[0;34m\u001b[0m\u001b[0;34m\u001b[0m\u001b[0m\n\u001b[1;32m     69\u001b[0m \u001b[0;31m#     print(queue_type)\u001b[0m\u001b[0;34m\u001b[0m\u001b[0;34m\u001b[0m\u001b[0m\n\u001b[0;32m---> 70\u001b[0;31m     \u001b[0mleague\u001b[0m \u001b[0;34m=\u001b[0m \u001b[0;34m[\u001b[0m\u001b[0melt\u001b[0m \u001b[0;32mfor\u001b[0m \u001b[0melt\u001b[0m \u001b[0;32min\u001b[0m \u001b[0mleague_data\u001b[0m \u001b[0;32mif\u001b[0m \u001b[0melt\u001b[0m\u001b[0;34m[\u001b[0m\u001b[0;34m'queueType'\u001b[0m\u001b[0;34m]\u001b[0m \u001b[0;34m==\u001b[0m \u001b[0mqueue_type\u001b[0m\u001b[0;34m]\u001b[0m\u001b[0;34m[\u001b[0m\u001b[0;36m0\u001b[0m\u001b[0;34m]\u001b[0m\u001b[0;34m\u001b[0m\u001b[0m\n\u001b[0m\u001b[1;32m     71\u001b[0m     \u001b[0mwins\u001b[0m \u001b[0;34m=\u001b[0m \u001b[0mleague\u001b[0m\u001b[0;34m[\u001b[0m\u001b[0;34m'wins'\u001b[0m\u001b[0;34m]\u001b[0m\u001b[0;34m\u001b[0m\u001b[0m\n\u001b[1;32m     72\u001b[0m     \u001b[0mlosses\u001b[0m \u001b[0;34m=\u001b[0m \u001b[0mleague\u001b[0m\u001b[0;34m[\u001b[0m\u001b[0;34m'losses'\u001b[0m\u001b[0;34m]\u001b[0m\u001b[0;34m\u001b[0m\u001b[0m\n",
      "\u001b[0;31mIndexError\u001b[0m: list index out of range"
     ]
    }
   ],
   "source": [
    "import requests\n",
    "from pprint import pprint\n",
    "import config\n",
    "import numpy as np\n",
    "\n",
    "username = 'delphinus6'\n",
    "game_index = 0\n",
    "\n",
    "response = requests.get(\"https://na1.api.riotgames.com/lol/summoner/v3/summoners/by-name/%s?api_key=%s\" % (username, config.api_key))\n",
    "summoner_data = response.json()\n",
    "\n",
    "summoner_id = summoner_data['id']\n",
    "account_id = summoner_data['accountId']\n",
    "\n",
    "# response = requests.get('https://na1.api.riotgames.com/lol/league/v3/positions/by-summoner/%s?api_key=%s' % (summoner_id, config.api_key))\n",
    "# league_data = response.json()\n",
    "\n",
    "# print('%s\\'s Winrates' % username)\n",
    "# print('----')\n",
    "# for league in league_data:\n",
    "#     wins = league['wins']\n",
    "#     losses = league['losses']\n",
    "#     winrate = wins / (wins + losses) * 100\n",
    "#     print('%s: %.02f%% over %d games' % (league['queueType'], winrate, (wins+losses)))\n",
    "# print('----')    \n",
    "\n",
    "response = requests.get(\"https://na1.api.riotgames.com/lol/match/v3/matchlists/by-account/%s?api_key=%s\" % (account_id, config.api_key))\n",
    "all_match_data = response.json()\n",
    "\n",
    "latest_match_id = all_match_data['matches'][game_index]['gameId']\n",
    "\n",
    "response = requests.get(\"https://na1.api.riotgames.com/lol/match/v3/matches/%s?api_key=%s\" % (latest_match_id, config.api_key))\n",
    "latest_match_data = response.json()\n",
    "\n",
    "num_players = len(latest_match_data['participantIdentities']) / 2\n",
    "queue_id = latest_match_data['queueId']\n",
    "if queue_id == 470:\n",
    "    queue_type = 'RANKED_FLEX_TT'\n",
    "elif queue_id == 420:\n",
    "    queue_type = 'RANKED_SOLO_5x5'\n",
    "elif queue_id == 440:\n",
    "    queue_type = 'RANKED_FLEX_SR'\n",
    "else:\n",
    "    queue_type = 'QUEUE ID NOT ACCOUNTED FOR'\n",
    "    \n",
    "print('Queue type: %s' % queue_type)\n",
    "print('Queue id: %d' % queue_id)\n",
    "print('----')\n",
    "\n",
    "team1 = []\n",
    "team1_w = 0\n",
    "team1_tot = 0\n",
    "team2 = []\n",
    "team2_w = 0\n",
    "team2_tot = 0\n",
    "for i, participant in enumerate(latest_match_data['participantIdentities']):\n",
    "    if i == 0:\n",
    "        print('Team 1:')\n",
    "    elif i == num_players:\n",
    "        print('\\nTeam 2:')\n",
    "    \n",
    "    summoner_name = participant['player']['summonerName']\n",
    "    summoner_id = participant['player']['summonerId']\n",
    "#     print(summoner_name, summoner_id)\n",
    "    \n",
    "    response = requests.get('https://na1.api.riotgames.com/lol/league/v3/positions/by-summoner/%s?api_key=%s' % (summoner_id, config.api_key))\n",
    "    league_data = response.json()\n",
    "#     print(league_data)\n",
    "#     print(queue_type)\n",
    "    league = [elt for elt in league_data if elt['queueType'] == queue_type][0]\n",
    "    wins = league['wins']\n",
    "    losses = league['losses']\n",
    "    winrate = wins / (wins + losses)\n",
    "    if latest_match_data['teams'][0]['teamId'] == latest_match_data['participants'][i]['teamId']:\n",
    "#     if i < num_players:\n",
    "        team1.append(winrate)\n",
    "        team1_w += wins\n",
    "        team1_tot += (wins + losses)\n",
    "    else:\n",
    "        team2.append(winrate)\n",
    "        team2_w += wins\n",
    "        team2_tot += (wins + losses)\n",
    "    print('%s: %s/%s (%.02f%%), %s %s' % (summoner_name, wins, wins + losses, winrate * 100, league['tier'], league['rank'] ))\n",
    "\n",
    "print('----')\n",
    "    \n",
    "team1_sum = sum(team1)\n",
    "team2_sum = sum(team2)\n",
    "print('Predictions (Team 1 vs Team2):\\n')\n",
    "print('    Cumulative winrates: %.02f%% vs %.02f%%' % (team1_sum*100, team2_sum*100))\n",
    "team1_win = latest_match_data['teams'][0]['win'] == 'Win'\n",
    "# team1_predict = team1_sum > team2_sum\n",
    "\n",
    "sum_ratio = team1_sum / team2_sum\n",
    "print('    Win likelihood from sums: %.02f%% vs %.02f%%' % (1/(1+1/sum_ratio)*100, 1/(1+sum_ratio)*100))\n",
    "\n",
    "# Sort for min\n",
    "team1.sort(reverse = False)\n",
    "team2.sort(reverse = False)\n",
    "ratios = np.array(team1) / np.array(team2)\n",
    "team1_ratio = np.mean(ratios) / np.mean(1/ratios)\n",
    "print('    Win likelihood from mean min: %.02f%% vs %.02f%%' % (1/(1+1/team1_ratio)*100, 1/(1+team1_ratio)*100))\n",
    "\n",
    "# Sort for max\n",
    "team1.sort(reverse = False)\n",
    "team2.sort(reverse = True)\n",
    "ratios = np.array(team1) / np.array(team2)\n",
    "team1_ratio = np.mean(ratios) / np.mean(1/ratios)\n",
    "max_lh_1 = 1/(1+1/team1_ratio)*100\n",
    "max_lh_2 = 1/(1+team1_ratio)*100\n",
    "print('    Win likelihood from mean max: %.02f%% vs %.02f%%' % (max_lh_1, max_lh_2))\n",
    "\n",
    "map_diff = 0.026\n",
    "print('    After map side difference (%.02f%%): %.02f%% vs %.02f%%' % (map_diff, max_lh_1 * (1 - map_diff), max_lh_2 * (1 + map_diff)))\n",
    "\n",
    "team1_carry = team1[-1]/team2[-1]\n",
    "team2_carry = team2[0]/team1[0]\n",
    "min_carry = min(team1_carry, team2_carry)\n",
    "print('    Solo carry likelihood: %.02f vs %.02f' % (team1_carry/min_carry, team2_carry/min_carry))\n",
    "\n",
    "if team1_win:\n",
    "    winner = 'Team 1'\n",
    "else:\n",
    "    winner = 'Team 2'\n",
    "print('\\nActual result: %s won!' % winner) \n",
    "# print('-->', team1_win == team1_predict)\n",
    "    \n"
   ]
  },
  {
   "cell_type": "code",
   "execution_count": 1,
   "metadata": {},
   "outputs": [
    {
     "name": "stdout",
     "output_type": "stream",
     "text": [
      "Queue type: RANKED_SOLO_5x5\n",
      "Queue id: 420\n",
      "----\n",
      "Team 1:\n",
      "cj is awesome bu: 20/32 (62.50%)\n",
      "ghost wingzero: 77/135 (57.04%)\n",
      "WanderiN: 6/18 (33.33%)\n",
      "UnknownMinx: 21/39 (53.85%)\n",
      "SylowP: 27/59 (45.76%)\n",
      "\n",
      "Team 2:\n",
      "RedGhostzzz: 57/121 (47.11%)\n",
      "ElReyMonito: 97/213 (45.54%)\n",
      "Crysoooo: 101/212 (47.64%)\n",
      "Uncle Fawka: 43/96 (44.79%)\n",
      "----\n",
      "Predictions (Team 1 vs Team2):\n",
      "\n",
      "    Cumulative winrates: 252.48% vs 185.08%\n",
      "    Win likelihood from sums: 57.70% vs 42.30%\n"
     ]
    },
    {
     "ename": "ValueError",
     "evalue": "operands could not be broadcast together with shapes (5,) (4,) ",
     "output_type": "error",
     "traceback": [
      "\u001b[0;31m---------------------------------------------------------------------------\u001b[0m",
      "\u001b[0;31mValueError\u001b[0m                                Traceback (most recent call last)",
      "\u001b[0;32m<ipython-input-1-93906d2e8e5b>\u001b[0m in \u001b[0;36m<module>\u001b[0;34m()\u001b[0m\n\u001b[1;32m     87\u001b[0m \u001b[0mteam1\u001b[0m\u001b[0;34m.\u001b[0m\u001b[0msort\u001b[0m\u001b[0;34m(\u001b[0m\u001b[0mreverse\u001b[0m \u001b[0;34m=\u001b[0m \u001b[0;32mFalse\u001b[0m\u001b[0;34m)\u001b[0m\u001b[0;34m\u001b[0m\u001b[0m\n\u001b[1;32m     88\u001b[0m \u001b[0mteam2\u001b[0m\u001b[0;34m.\u001b[0m\u001b[0msort\u001b[0m\u001b[0;34m(\u001b[0m\u001b[0mreverse\u001b[0m \u001b[0;34m=\u001b[0m \u001b[0;32mFalse\u001b[0m\u001b[0;34m)\u001b[0m\u001b[0;34m\u001b[0m\u001b[0m\n\u001b[0;32m---> 89\u001b[0;31m \u001b[0mratios\u001b[0m \u001b[0;34m=\u001b[0m \u001b[0mnp\u001b[0m\u001b[0;34m.\u001b[0m\u001b[0marray\u001b[0m\u001b[0;34m(\u001b[0m\u001b[0mteam1\u001b[0m\u001b[0;34m)\u001b[0m \u001b[0;34m/\u001b[0m \u001b[0mnp\u001b[0m\u001b[0;34m.\u001b[0m\u001b[0marray\u001b[0m\u001b[0;34m(\u001b[0m\u001b[0mteam2\u001b[0m\u001b[0;34m)\u001b[0m\u001b[0;34m\u001b[0m\u001b[0m\n\u001b[0m\u001b[1;32m     90\u001b[0m \u001b[0mteam1_ratio\u001b[0m \u001b[0;34m=\u001b[0m \u001b[0mnp\u001b[0m\u001b[0;34m.\u001b[0m\u001b[0mmean\u001b[0m\u001b[0;34m(\u001b[0m\u001b[0mratios\u001b[0m\u001b[0;34m)\u001b[0m \u001b[0;34m/\u001b[0m \u001b[0mnp\u001b[0m\u001b[0;34m.\u001b[0m\u001b[0mmean\u001b[0m\u001b[0;34m(\u001b[0m\u001b[0;36m1\u001b[0m\u001b[0;34m/\u001b[0m\u001b[0mratios\u001b[0m\u001b[0;34m)\u001b[0m\u001b[0;34m\u001b[0m\u001b[0m\n\u001b[1;32m     91\u001b[0m \u001b[0mprint\u001b[0m\u001b[0;34m(\u001b[0m\u001b[0;34m'    Win likelihood from mean min: %.02f%% vs %.02f%%'\u001b[0m \u001b[0;34m%\u001b[0m \u001b[0;34m(\u001b[0m\u001b[0;36m1\u001b[0m\u001b[0;34m/\u001b[0m\u001b[0;34m(\u001b[0m\u001b[0;36m1\u001b[0m\u001b[0;34m+\u001b[0m\u001b[0;36m1\u001b[0m\u001b[0;34m/\u001b[0m\u001b[0mteam1_ratio\u001b[0m\u001b[0;34m)\u001b[0m\u001b[0;34m*\u001b[0m\u001b[0;36m100\u001b[0m\u001b[0;34m,\u001b[0m \u001b[0;36m1\u001b[0m\u001b[0;34m/\u001b[0m\u001b[0;34m(\u001b[0m\u001b[0;36m1\u001b[0m\u001b[0;34m+\u001b[0m\u001b[0mteam1_ratio\u001b[0m\u001b[0;34m)\u001b[0m\u001b[0;34m*\u001b[0m\u001b[0;36m100\u001b[0m\u001b[0;34m)\u001b[0m\u001b[0;34m)\u001b[0m\u001b[0;34m\u001b[0m\u001b[0m\n",
      "\u001b[0;31mValueError\u001b[0m: operands could not be broadcast together with shapes (5,) (4,) "
     ]
    }
   ],
   "source": [
    "# real-time\n",
    "import requests\n",
    "from pprint import pprint\n",
    "import config\n",
    "import numpy as np\n",
    "\n",
    "username = 'SylowP'\n",
    "\n",
    "response = requests.get(\"https://na1.api.riotgames.com/lol/summoner/v3/summoners/by-name/%s?api_key=%s\" % (username, config.api_key))\n",
    "summoner_data = response.json()\n",
    "\n",
    "summoner_id = summoner_data['id']\n",
    "account_id = summoner_data['accountId']\n",
    "\n",
    "# response = requests.get('https://na1.api.riotgames.com/lol/league/v3/positions/by-summoner/%s?api_key=%s' % (summoner_id, config.api_key))\n",
    "# league_data = response.json()\n",
    "\n",
    "# print('%s\\'s Winrates' % username)\n",
    "# print('----')\n",
    "# for league in league_data:\n",
    "#     wins = league['wins']\n",
    "#     losses = league['losses']\n",
    "#     winrate = wins / (wins + losses) * 100\n",
    "#     print('%s: %.02f%% over %d games' % (league['queueType'], winrate, (wins+losses)))\n",
    "# print('----')    \n",
    "\n",
    "response = requests.get(\"https://na1.api.riotgames.com/lol/spectator/v3/active-games/by-summoner/%s?api_key=%s\" % (summoner_id, config.api_key))\n",
    "current_match_data = response.json()\n",
    "# print(current_match_data)\n",
    "\n",
    "num_players = len(current_match_data['participants']) / 2\n",
    "queue_id = current_match_data['gameQueueConfigId']\n",
    "if queue_id == 470:\n",
    "    queue_type = 'RANKED_FLEX_TT'\n",
    "elif queue_id == 420:\n",
    "    queue_type = 'RANKED_SOLO_5x5'\n",
    "elif queue_id == 440:\n",
    "    queue_type = 'RANKED_FLEX_SR'\n",
    "else:\n",
    "    queue_type = 'QUEUE ID NOT ACCOUNTED FOR'\n",
    "    \n",
    "print('Queue type: %s' % queue_type)\n",
    "print('Queue id: %d' % queue_id)\n",
    "print('----')\n",
    "\n",
    "team1 = []\n",
    "team2 = []\n",
    "for i, participant in enumerate(current_match_data['participants']):\n",
    "    try:\n",
    "        if i == 0:\n",
    "            print('Team 1:')\n",
    "        elif i == num_players:\n",
    "            print('\\nTeam 2:')\n",
    "\n",
    "        summoner_name = participant['summonerName']\n",
    "        summoner_id = participant['summonerId']\n",
    "    #     print(summoner_name, summoner_id)\n",
    "\n",
    "        response = requests.get('https://na1.api.riotgames.com/lol/league/v3/positions/by-summoner/%s?api_key=%s' % (summoner_id, config.api_key))\n",
    "        league_data = response.json()\n",
    "    #     print(league_data)\n",
    "    #     print(queue_type)\n",
    "        league = [elt for elt in league_data if elt['queueType'] == queue_type][0]\n",
    "        wins = league['wins']\n",
    "        losses = league['losses']\n",
    "        winrate = wins / (wins + losses)\n",
    "    #     if current_match_data['teams'][0]['teamId'] == latest_match_data['participants'][i]['teamId']:\n",
    "        if i < num_players:\n",
    "            team1.append(winrate)\n",
    "        else:\n",
    "            team2.append(winrate)\n",
    "        print('%s: %s/%s (%.02f%%)' % (summoner_name, wins, wins + losses, winrate * 100) )\n",
    "    except Exception as e:\n",
    "        pass\n",
    "        \n",
    "print('----')\n",
    "    \n",
    "team1_sum = sum(team1)\n",
    "team2_sum = sum(team2)\n",
    "print('Predictions (Team 1 vs Team2):\\n')\n",
    "print('    Cumulative winrates: %.02f%% vs %.02f%%' % (team1_sum*100, team2_sum*100))\n",
    "\n",
    "sum_ratio = team1_sum / team2_sum\n",
    "print('    Win likelihood from sums: %.02f%% vs %.02f%%' % (1/(1+1/sum_ratio)*100, 1/(1+sum_ratio)*100))\n",
    "\n",
    "# Sort for min\n",
    "team1.sort(reverse = False)\n",
    "team2.sort(reverse = False)\n",
    "ratios = np.array(team1) / np.array(team2)\n",
    "team1_ratio = np.mean(ratios) / np.mean(1/ratios)\n",
    "print('    Win likelihood from mean min: %.02f%% vs %.02f%%' % (1/(1+1/team1_ratio)*100, 1/(1+team1_ratio)*100))\n",
    "\n",
    "# Sort for max\n",
    "team1.sort(reverse = False)\n",
    "team2.sort(reverse = True)\n",
    "ratios = np.array(team1) / np.array(team2)\n",
    "team1_ratio = np.mean(ratios) / np.mean(1/ratios)\n",
    "max_lh_1 = 1/(1+1/team1_ratio)*100\n",
    "max_lh_2 = 1/(1+team1_ratio)*100\n",
    "print('    Win likelihood from mean max: %.02f%% vs %.02f%%' % (max_lh_1, max_lh_2))\n",
    "\n",
    "map_diff = 0.026\n",
    "print('    After map side difference (%.02f%%): %.02f%% vs %.02f%%' % (map_diff, max_lh_1 * (1 - map_diff), max_lh_2 * (1 + map_diff)))\n",
    "\n",
    "team1_carry = team1[-1]/team2[-1]\n",
    "team2_carry = team2[0]/team1[0]\n",
    "min_carry = min(team1_carry, team2_carry)\n",
    "print('    Solo carry likelihood: %.02f vs %.02f' % (team1_carry/min_carry, team2_carry/min_carry))\n",
    "\n",
    "\n"
   ]
  },
  {
   "cell_type": "code",
   "execution_count": 18,
   "metadata": {},
   "outputs": [
    {
     "data": {
      "text/plain": [
       "[0.46551724137931033,\n",
       " 0.4864864864864865,\n",
       " 0.48717948717948717,\n",
       " 0.5189873417721519,\n",
       " 0.5267857142857143]"
      ]
     },
     "execution_count": 18,
     "metadata": {},
     "output_type": "execute_result"
    }
   ],
   "source": [
    "team1.sort(reverse = False)\n",
    "team1"
   ]
  },
  {
   "cell_type": "code",
   "execution_count": 19,
   "metadata": {},
   "outputs": [
    {
     "data": {
      "text/plain": [
       "[0.5353535353535354,\n",
       " 0.5,\n",
       " 0.46296296296296297,\n",
       " 0.4090909090909091,\n",
       " 0.2692307692307692]"
      ]
     },
     "execution_count": 19,
     "metadata": {},
     "output_type": "execute_result"
    }
   ],
   "source": [
    "team2.sort(reverse = True)\n",
    "team2"
   ]
  },
  {
   "cell_type": "code",
   "execution_count": 20,
   "metadata": {},
   "outputs": [
    {
     "name": "stdout",
     "output_type": "stream",
     "text": [
      "[0.86955107 0.97297297 1.05230769 1.26863572 1.95663265]\n",
      "[1.15001871 1.02777778 0.9502924  0.78824834 0.51108214]\n",
      "1.2240200232387322\n",
      "0.8854838712484929\n",
      "1.382317694293989\n",
      "0.5802407032466109\n",
      "0.419759296753389\n",
      "--\n",
      "1.1416487580591697\n",
      "0.5330700254946419\n",
      "0.4669299745053581\n"
     ]
    }
   ],
   "source": [
    "ratios = np.array(team1) / np.array(team2)\n",
    "print(ratios)\n",
    "print(1/ratios)\n",
    "print(np.mean(ratios))\n",
    "print(np.mean(1/ratios))\n",
    "team1_ratio = np.mean(ratios) / np.mean(1/ratios)\n",
    "print(team1_ratio)\n",
    "print(1/(1+1/team1_ratio))\n",
    "print(1/(1+team1_ratio))\n",
    "sum_ratio = team1_sum / team2_sum\n",
    "print('--')\n",
    "print(sum_ratio)\n",
    "print(1/(1+1/sum_ratio))\n",
    "print(1/(1+sum_ratio))"
   ]
  },
  {
   "cell_type": "code",
   "execution_count": 21,
   "metadata": {},
   "outputs": [
    {
     "data": {
      "text/plain": [
       "0.4966442953020134"
      ]
     },
     "execution_count": 21,
     "metadata": {},
     "output_type": "execute_result"
    }
   ],
   "source": [
    "team1_w / team1_tot"
   ]
  },
  {
   "cell_type": "code",
   "execution_count": 22,
   "metadata": {},
   "outputs": [
    {
     "data": {
      "text/plain": [
       "0.4890254609306409"
      ]
     },
     "execution_count": 22,
     "metadata": {},
     "output_type": "execute_result"
    }
   ],
   "source": [
    "team2_w / team2_tot"
   ]
  },
  {
   "cell_type": "code",
   "execution_count": 23,
   "metadata": {},
   "outputs": [
    {
     "data": {
      "text/plain": [
       "0.4969912542206301"
      ]
     },
     "execution_count": 23,
     "metadata": {},
     "output_type": "execute_result"
    }
   ],
   "source": [
    "import numpy as np\n",
    "np.mean(team1)"
   ]
  },
  {
   "cell_type": "code",
   "execution_count": 17,
   "metadata": {},
   "outputs": [
    {
     "data": {
      "text/plain": [
       "(518, 557)"
      ]
     },
     "execution_count": 17,
     "metadata": {},
     "output_type": "execute_result"
    }
   ],
   "source": [
    "team1_w, team2_w"
   ]
  },
  {
   "cell_type": "code",
   "execution_count": 38,
   "metadata": {},
   "outputs": [
    {
     "data": {
      "text/plain": [
       "(539, 42)"
      ]
     },
     "execution_count": 38,
     "metadata": {},
     "output_type": "execute_result"
    }
   ],
   "source": [
    "team1_tot, team2_tot"
   ]
  },
  {
   "cell_type": "code",
   "execution_count": 2,
   "metadata": {},
   "outputs": [
    {
     "data": {
      "text/plain": [
       "{'gameId': 2830390741,\n",
       " 'mapId': 11,\n",
       " 'gameMode': 'CLASSIC',\n",
       " 'gameType': 'MATCHED_GAME',\n",
       " 'gameQueueConfigId': 420,\n",
       " 'participants': [{'teamId': 100,\n",
       "   'spell1Id': 11,\n",
       "   'spell2Id': 4,\n",
       "   'championId': 62,\n",
       "   'profileIconId': 3541,\n",
       "   'summonerName': 'cj is awesome bu',\n",
       "   'bot': False,\n",
       "   'summonerId': 45531592,\n",
       "   'gameCustomizationObjects': [],\n",
       "   'perks': {'perkIds': [8229, 8226, 8210, 8236, 8138, 8105],\n",
       "    'perkStyle': 8200,\n",
       "    'perkSubStyle': 8100}},\n",
       "  {'teamId': 100,\n",
       "   'spell1Id': 14,\n",
       "   'spell2Id': 4,\n",
       "   'championId': 157,\n",
       "   'profileIconId': 3440,\n",
       "   'summonerName': 'ghost wingzero',\n",
       "   'bot': False,\n",
       "   'summonerId': 43147057,\n",
       "   'gameCustomizationObjects': [],\n",
       "   'perks': {'perkIds': [8010, 9111, 9104, 8014, 8473, 8429],\n",
       "    'perkStyle': 8000,\n",
       "    'perkSubStyle': 8400}},\n",
       "  {'teamId': 100,\n",
       "   'spell1Id': 12,\n",
       "   'spell2Id': 4,\n",
       "   'championId': 41,\n",
       "   'profileIconId': 3502,\n",
       "   'summonerName': 'WanderiN',\n",
       "   'bot': False,\n",
       "   'summonerId': 33030069,\n",
       "   'gameCustomizationObjects': [],\n",
       "   'perks': {'perkIds': [8359, 8304, 8321, 8347, 8473, 8472],\n",
       "    'perkStyle': 8300,\n",
       "    'perkSubStyle': 8400}},\n",
       "  {'teamId': 100,\n",
       "   'spell1Id': 4,\n",
       "   'spell2Id': 7,\n",
       "   'championId': 21,\n",
       "   'profileIconId': 1633,\n",
       "   'summonerName': 'UnknownMinx',\n",
       "   'bot': False,\n",
       "   'summonerId': 54402577,\n",
       "   'gameCustomizationObjects': [],\n",
       "   'perks': {'perkIds': [8021, 9111, 9104, 8014, 8234, 8236],\n",
       "    'perkStyle': 8000,\n",
       "    'perkSubStyle': 8200}},\n",
       "  {'teamId': 100,\n",
       "   'spell1Id': 14,\n",
       "   'spell2Id': 4,\n",
       "   'championId': 53,\n",
       "   'profileIconId': 3006,\n",
       "   'summonerName': 'SylowP',\n",
       "   'bot': False,\n",
       "   'summonerId': 69052540,\n",
       "   'gameCustomizationObjects': [],\n",
       "   'perks': {'perkIds': [8439, 8473, 8429, 8451, 8345, 8347],\n",
       "    'perkStyle': 8400,\n",
       "    'perkSubStyle': 8300}},\n",
       "  {'teamId': 200,\n",
       "   'spell1Id': 4,\n",
       "   'spell2Id': 11,\n",
       "   'championId': 141,\n",
       "   'profileIconId': 3506,\n",
       "   'summonerName': 'RedGhostzzz',\n",
       "   'bot': False,\n",
       "   'summonerId': 89752124,\n",
       "   'gameCustomizationObjects': [],\n",
       "   'perks': {'perkIds': [8128, 8143, 8138, 8105, 8234, 8275],\n",
       "    'perkStyle': 8100,\n",
       "    'perkSubStyle': 8200}},\n",
       "  {'teamId': 200,\n",
       "   'spell1Id': 4,\n",
       "   'spell2Id': 12,\n",
       "   'championId': 68,\n",
       "   'profileIconId': 563,\n",
       "   'summonerName': 'EliteDark',\n",
       "   'bot': False,\n",
       "   'summonerId': 39596716,\n",
       "   'gameCustomizationObjects': [],\n",
       "   'perks': {'perkIds': [8112, 8126, 8136, 8135, 8210, 8237],\n",
       "    'perkStyle': 8100,\n",
       "    'perkSubStyle': 8200}},\n",
       "  {'teamId': 200,\n",
       "   'spell1Id': 14,\n",
       "   'spell2Id': 4,\n",
       "   'championId': 55,\n",
       "   'profileIconId': 21,\n",
       "   'summonerName': 'ElReyMonito',\n",
       "   'bot': False,\n",
       "   'summonerId': 47451035,\n",
       "   'gameCustomizationObjects': [],\n",
       "   'perks': {'perkIds': [8112, 8143, 8138, 8135, 8233, 8236],\n",
       "    'perkStyle': 8100,\n",
       "    'perkSubStyle': 8200}},\n",
       "  {'teamId': 200,\n",
       "   'spell1Id': 4,\n",
       "   'spell2Id': 14,\n",
       "   'championId': 133,\n",
       "   'profileIconId': 3505,\n",
       "   'summonerName': 'Crysoooo',\n",
       "   'bot': False,\n",
       "   'summonerId': 75190310,\n",
       "   'gameCustomizationObjects': [],\n",
       "   'perks': {'perkIds': [8351, 8313, 8345, 8410, 9111, 9105],\n",
       "    'perkStyle': 8300,\n",
       "    'perkSubStyle': 8000}},\n",
       "  {'teamId': 200,\n",
       "   'spell1Id': 4,\n",
       "   'spell2Id': 14,\n",
       "   'championId': 111,\n",
       "   'profileIconId': 1452,\n",
       "   'summonerName': 'Uncle Fawka',\n",
       "   'bot': False,\n",
       "   'summonerId': 40400316,\n",
       "   'gameCustomizationObjects': [],\n",
       "   'perks': {'perkIds': [8439, 8473, 8429, 8242, 8234, 8236],\n",
       "    'perkStyle': 8400,\n",
       "    'perkSubStyle': 8200}}],\n",
       " 'observers': {'encryptionKey': 'tXfwphktYIYKPrRvf+m7zSM9SNdQ07Po'},\n",
       " 'platformId': 'NA1',\n",
       " 'bannedChampions': [{'championId': 238, 'teamId': 100, 'pickTurn': 1},\n",
       "  {'championId': 555, 'teamId': 100, 'pickTurn': 2},\n",
       "  {'championId': 90, 'teamId': 100, 'pickTurn': 3},\n",
       "  {'championId': 105, 'teamId': 100, 'pickTurn': 4},\n",
       "  {'championId': 119, 'teamId': 100, 'pickTurn': 5},\n",
       "  {'championId': 161, 'teamId': 200, 'pickTurn': 6},\n",
       "  {'championId': 11, 'teamId': 200, 'pickTurn': 7},\n",
       "  {'championId': 23, 'teamId': 200, 'pickTurn': 8},\n",
       "  {'championId': 105, 'teamId': 200, 'pickTurn': 9},\n",
       "  {'championId': 238, 'teamId': 200, 'pickTurn': 10}],\n",
       " 'gameStartTime': 1532150426308,\n",
       " 'gameLength': 775}"
      ]
     },
     "execution_count": 2,
     "metadata": {},
     "output_type": "execute_result"
    }
   ],
   "source": [
    "current_match_data\n"
   ]
  },
  {
   "cell_type": "code",
   "execution_count": null,
   "metadata": {},
   "outputs": [],
   "source": []
  }
 ],
 "metadata": {
  "kernelspec": {
   "display_name": "Python 3",
   "language": "python",
   "name": "python3"
  },
  "language_info": {
   "codemirror_mode": {
    "name": "ipython",
    "version": 3
   },
   "file_extension": ".py",
   "mimetype": "text/x-python",
   "name": "python",
   "nbconvert_exporter": "python",
   "pygments_lexer": "ipython3",
   "version": "3.6.5"
  }
 },
 "nbformat": 4,
 "nbformat_minor": 2
}
